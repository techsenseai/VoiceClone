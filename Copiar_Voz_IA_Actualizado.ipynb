
{
 "cells": [
  {
   "cell_type": "markdown",
   "metadata": {},
   "source": [
    "# Clonar tu voz con IA usando Python\n",
    "Este notebook incluye pasos avanzados para entrenar y personalizar tu modelo."
   ]
  },
  {
   "cell_type": "code",
   "execution_count": null,
   "metadata": {},
   "outputs": [],
   "source": [
    "# Instalar las librerías necesarias\n",
    "!pip install tts librosa"
   ]
  },
  {
   "cell_type": "markdown",
   "metadata": {},
   "source": [
    "## Paso 1: Cargar un modelo preentrenado"
   ]
  },
  {
   "cell_type": "code",
   "execution_count": null,
   "metadata": {},
   "outputs": [],
   "source": [
    "from tts import TTS\n",
    "model = TTS("tts_models/en/ljspeech/tacotron2-DDC")\n",
    "print("Modelo cargado con éxito.")"
   ]
  },
  {
   "cell_type": "markdown",
   "metadata": {},
   "source": [
    "## Paso 2: Preparar datos para personalizar el modelo\n",
    "### Limpieza y normalización de audios"
   ]
  },
  {
   "cell_type": "code",
   "execution_count": null,
   "metadata": {},
   "outputs": [],
   "source": [
    "import librosa\n",
    "import os\n",
    "\n",
    "def clean_audio(file_path, output_path):\n",
    "    y, sr = librosa.load(file_path, sr=22050)  # Normalizar a 22050 Hz\n",
    "    librosa.output.write_wav(output_path, y, sr)\n",
    "    print(f"Archivo normalizado guardado en: {output_path}")\n",
    "\n",
    "# Ejemplo: limpiar un audio\n",
    "clean_audio("mi_voz.wav", "mi_voz_cleaned.wav")"
   ]
  },
  {
   "cell_type": "markdown",
   "metadata": {},
   "source": [
    "### Crear un dataset estructurado para entrenamiento"
   ]
  },
  {
   "cell_type": "code",
   "execution_count": null,
   "metadata": {},
   "outputs": [],
   "source": [
    "import pandas as pd\n",
    "\n",
    "data = {\n",
    "    "audio_path": [\n",
    "        "path/to/audio1.wav",\n",
    "        "path/to/audio2.wav"\n",
    "    ],\n",
    "    "text": [\n",
    "        "Hola, esta es mi voz clonada.",\n",
    "        "Me gusta programar con Python."\n",
    "    ]\n",
    "}\n",
    "\n",
    "df = pd.DataFrame(data)\n",
    "df.to_csv("dataset.csv", index=False)\n",
    "print("Dataset creado y guardado como dataset.csv")"
   ]
  },
  {
   "cell_type": "markdown",
   "metadata": {},
   "source": [
    "## Paso 3: Entrenar el modelo con tus datos personalizados"
   ]
  },
  {
   "cell_type": "code",
   "execution_count": null,
   "metadata": {},
   "outputs": [],
   "source": [
    "!tts --model_name tts_models/en/ljspeech/tacotron2-DDC --train_dataset_path dataset.csv --output_path my_model/"
   ]
  },
  {
   "cell_type": "markdown",
   "metadata": {},
   "source": [
    "## Paso 4: Evaluar el modelo"
   ]
  },
  {
   "cell_type": "code",
   "execution_count": null,
   "metadata": {},
   "outputs": [],
   "source": [
    "from scipy.spatial.distance import cosine\n",
    "\n",
    "# Ejemplo: comparar espectrogramas\n",
    "def evaluate_model(original_audio, generated_audio):\n",
    "    original_spec = librosa.feature.melspectrogram(librosa.load(original_audio, sr=22050)[0])\n",
    "    generated_spec = librosa.feature.melspectrogram(librosa.load(generated_audio, sr=22050)[0])\n",
    "    similarity = 1 - cosine(original_spec.flatten(), generated_spec.flatten())\n",
    "    print(f"Similitud del audio: {similarity}")\n",
    "\n",
    "evaluate_model("mi_voz_cleaned.wav", "output_mejorado.wav")"
   ]
  },
  {
   "cell_type": "markdown",
   "metadata": {},
   "source": [
    "## Paso 5: Generar audio con el modelo personalizado"
   ]
  },
  {
   "cell_type": "code",
   "execution_count": null,
   "metadata": {},
   "outputs": [],
   "source": [
    "text = "¡El aprendizaje automático me fascina!"\n",
    "model.tts_to_file(text=text, speaker_wav="mi_voz_cleaned.wav", file_path="output_mejorado.wav")\n",
    "print("Audio generado: output_mejorado.wav")"
   ]
  }
 ],
 "metadata": {
  "kernelspec": {
   "display_name": "Python 3",
   "language": "python",
   "name": "python3"
  },
  "language_info": {
   "codemirror_mode": {
    "name": "ipython",
    "version": 3
   },
   "file_extension": ".py",
   "mimetype": "text/x-python",
   "name": "python",
   "nbconvert_exporter": "python",
   "pygments_lexer": "ipython3",
   "version": "3.8.10"
  }
 },
 "nbformat": 4,
 "nbformat_minor": 2
}
